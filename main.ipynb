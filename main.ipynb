{
  "cells": [
    {
      "cell_type": "markdown",
      "metadata": {
        "id": "MMaDZMfCdH5W"
      },
      "source": [
        "Practical assignment\n",
        "\n",
        "The Microsoft Research Sentence Completion Challenge (Zweig and Burges, 2011) requires a system to\n",
        "be able to predict which is the most likely word (from a set of 5 possibilities) to complete a sentence. In\n",
        "the labs you have evaluated using unigram and bigram models. In this assignment you are expected to\n",
        "investigate at least 2 extensions or alternative approaches to making predictions. Your solution does\n",
        "not need to be novel. You might choose to investigate 2 of the following approaches or 1 of the following\n",
        "approaches and 1 of your own devising.\n",
        "\n",
        "•Tri-gram (or even quadrigram) models\n",
        "•Word similarity methods e.g., using Googlenews vectors or WordNet?\n",
        "•Combining n-gram methods with word similarity methods e.g., distributional smoothing?\n",
        "•Using a neural language model?"
      ]
    },
    {
      "cell_type": "code",
      "execution_count": 2,
      "metadata": {
        "colab": {
          "base_uri": "https://localhost:8080/"
        },
        "id": "L4vpnUhQdH5h",
        "outputId": "3565a79e-f253-4c2e-ba2c-087e6ca7a552"
      },
      "outputs": [
        {
          "output_type": "stream",
          "name": "stdout",
          "text": [
            "Drive already mounted at /content/drive; to attempt to forcibly remount, call drive.mount(\"/content/drive\", force_remount=True).\n",
            "['.DS_Store', 'testing_data.csv', 'sample_submission.csv', 'Holmes_Training_Data (1)', 'test_answer.csv']\n"
          ]
        }
      ],
      "source": [
        "import numpy as np\n",
        "import matplotlib.pyplot as plt\n",
        "import nltk\n",
        "import os,random,math\n",
        "import sys\n",
        "import torch\n",
        "import copy\n",
        "\n",
        "from google.colab import drive\n",
        "drive.mount('/content/drive')\n",
        "\n",
        "training_dir=\"/content/drive/MyDrive\"+\"/sentence-completion (1)/Holmes_Training_Data (1)/\"\n",
        "print(os.listdir(\"/content/drive/MyDrive/sentence-completion (1)/\"))\n",
        "#testing_dir=\"D:/Documents/Computer Science/Year 3/Semester Two/ANLE/lab2resources/lab2resources/sentence-completion/testing_data.csv\""
      ]
    },
    {
      "cell_type": "markdown",
      "metadata": {
        "id": "QmcyauK1dH5i"
      },
      "source": [
        "We start by calling in needed libraries and setting the directories of data. We next want to read the data and format it correctly.\n",
        "\n",
        "The files are split between training and testing data from the holmes training data set. We then gather every line in the file within two large string array for training and testing. "
      ]
    },
    {
      "cell_type": "code",
      "execution_count": 3,
      "metadata": {
        "colab": {
          "base_uri": "https://localhost:8080/"
        },
        "id": "2p_kFOAodH5j",
        "outputId": "e7c46a35-1c6f-4847-a24d-de8d7b5dd47f"
      },
      "outputs": [
        {
          "output_type": "stream",
          "name": "stdout",
          "text": [
            "There are 522 files in the training directory: /content/drive/MyDrive/sentence-completion (1)/Holmes_Training_Data (1)\n",
            "LMYER10.TXT WLDFL10.TXT\n",
            "UnicodeDecodeError processing PHIL410.TXT: ignoring file\n",
            "UnicodeDecodeError processing KRSON10.TXT: ignoring file\n",
            "UnicodeDecodeError processing WTSLW10.TXT: ignoring file\n",
            "UnicodeDecodeError processing HFDTR10.TXT: ignoring file\n",
            "UnicodeDecodeError processing TBTAS10.TXT: ignoring file\n",
            "UnicodeDecodeError processing MFRND10.TXT: ignoring file\n",
            "UnicodeDecodeError processing MOHIC10.TXT: ignoring file\n",
            "UnicodeDecodeError processing LLIFE10.TXT: ignoring file\n",
            "UnicodeDecodeError processing GHROS10.TXT: ignoring file\n",
            "UnicodeDecodeError processing HHOHG10.TXT: ignoring file\n",
            "UnicodeDecodeError processing DTROY10.TXT: ignoring file\n",
            "UnicodeDecodeError processing ACHOE10.TXT: ignoring file\n",
            "UnicodeDecodeError processing TNGLW10.TXT: ignoring file\n",
            "['the project gutenberg etext of the dynamiter by the stevensons by robert louis stevenson and fanny van de grift stevenson #32 in our series by robert louis stevenson  copyright laws are changing all over the world be sure to check the copyright laws for your country before posting these files', '', ' please take a look at the important information in this header', ' we encourage you to keep this file on your own disk keeping an electronic path open for the next readers', ' do not remove this', '  **welcome to the world of free plain vanilla electronic texts** **etexts readable by both humans and by computers since 1971** *these etexts prepared by hundreds of volunteers and donations* information on contacting project gutenberg to get etexts and further information is included below', ' we need your donations', '  the dynamiter by robert louis stevenson and fanny van de grift stevenson september 1996 [etext #647]  the project gutenberg etext of the dynamiter by the stevensons *****this file should be named dynmt10', 'txt or dynmt10', 'zip****** corrected editions of our etexts get a new number dynmt11'] ['****the project gutenberg etext of an outcast of the islands*** #10 in our series by joseph conrad  copyright laws are changing all over the world be sure to check the copyright laws for your country before posting these files', ' please take a look at the important information in this header', ' we encourage you to keep this file on your own disk keeping an electronic path open for the next readers', ' do not remove this', ' **welcome to the world of free plain vanilla electronic texts** **etexts readable by both humans and by computers since 1971** *these etexts prepared by hundreds of volunteers and donations* information on contacting project gutenberg to get etexts and further information is included below', ' we need your donations', '  an outcast of the islands by joseph conrad august 1996 [etext 638]  ****the project gutenberg etext of an outcast of the islands*** *****this file should be named outca10', 'txt or outca10', 'zip****** corrected editions of our etexts get a new number outca11', 'txt']\n"
          ]
        }
      ],
      "source": [
        "TRAINING_DIR=os.path.dirname(training_dir) #this needs to be the parent directory for the training corpus\n",
        "def get_training_testing(training_dir=TRAINING_DIR,split=0.5):\n",
        "    filenames=os.listdir(training_dir)\n",
        "    n=len(filenames)\n",
        "    print(\"There are {} files in the training directory: {}\".format(n,training_dir))\n",
        "    #random.seed(53) #if you want the same random split every time\n",
        "    random.shuffle(filenames)\n",
        "    index=int(n*split)\n",
        "    return(filenames[:index],filenames[index:])\n",
        "\n",
        "def readWords(files):\n",
        "    training=[]\n",
        "    for afile in files: #look through each file\n",
        "                #print(\"Processing {}\".format(afile))\n",
        "                try:\n",
        "                    sent=\"\"\n",
        "                    with open(os.path.join(training_dir,afile)) as instream: #get each line and preprocess\n",
        "                        for line in instream:\n",
        "                            line=line.lower()\n",
        "                            line=line.rstrip()\n",
        "                            sent+=line+\" \" #gather each line in the array\n",
        "                    \n",
        "                except UnicodeDecodeError:\n",
        "                    print(\"UnicodeDecodeError processing {}: ignoring file\".format(afile))\n",
        "                except PermissionError:\n",
        "                    print(\"denied\")\n",
        "    sent=sent.replace(\"?\",\".\").replace(\"!\",\".\").replace(\"  \",\" \").replace(\"'\",\"\").replace(\",\",\"\")\n",
        "    training=sent.split(\".\") #get array of sentences\n",
        "    try: training.remove(\" \")  #remove spaces\n",
        "    except ValueError: pass\n",
        "    try: training.remove(' m') #remove random characters\n",
        "    except ValueError: pass\n",
        "    return training\n",
        "train,test=get_training_testing() #get the data\n",
        "\n",
        "print(train[0],test[0])\n",
        "\n",
        "train_words=readWords(train) #get the train sentences\n",
        "test_words=readWords(test) #get the test sentences\n",
        "print(train_words[0:10],test_words[0:10])"
      ]
    },
    {
      "cell_type": "markdown",
      "metadata": {
        "id": "xPQzcAWadH5l"
      },
      "source": [
        "Apply preprocessing techniques on the data"
      ]
    },
    {
      "cell_type": "code",
      "execution_count": 4,
      "metadata": {
        "colab": {
          "base_uri": "https://localhost:8080/"
        },
        "id": "taaQvXzxdH5m",
        "outputId": "e509a936-9d28-4b18-ad61-a62a56ac24ff"
      },
      "outputs": [
        {
          "output_type": "execute_result",
          "data": {
            "text/plain": [
              "array([0, 0, 0, 7], dtype=int32)"
            ]
          },
          "metadata": {},
          "execution_count": 4
        }
      ],
      "source": [
        "from tensorflow.keras.preprocessing.sequence import pad_sequences\n",
        "from tensorflow.keras.preprocessing.text import Tokenizer\n",
        "\n",
        "def get_word_list(train):\n",
        "    dict={}\n",
        "    for sent in train:\n",
        "        for word in sent.split():\n",
        "            dict[word]=0\n",
        "    return list(dict.keys()) #list of unique words return\n",
        "def convert_to_vector(words):\n",
        "    oov_token = \"<OOV>\"\n",
        "    tokenizer = Tokenizer(num_words=len(words), oov_token=oov_token)\n",
        "    tokenizer.fit_on_texts(words)\n",
        "    #word_index = tokenizer.word_index\n",
        "    sequences = tokenizer.texts_to_sequences(words)\n",
        "    return list(pad_sequences(sequences, truncating='post', maxlen=4))\n",
        "def count_freq(train):\n",
        "    for sent in train:\n",
        "        pass\n",
        "words_train=get_word_list(train_words)\n",
        "x=convert_to_vector(words_train)\n",
        "\n",
        "def get_label_as_data(labels):\n",
        "    x=len(labels) #get the size of the array\n",
        "    arr=np.zeros((x)) #create an array of empty\n",
        "    lab=[]\n",
        "    for i in range(x):\n",
        "        a=np.copy(arr)\n",
        "        a[i]=1\n",
        "        lab.append(a)\n",
        "    return np.array(lab)\n",
        "INP_SIZE=len(x[0])\n",
        "\n",
        "x[0]\n"
      ]
    },
    {
      "cell_type": "markdown",
      "source": [
        "Find the words that follow sentences and turn it into training data and output data"
      ],
      "metadata": {
        "id": "WSe2IsvYiuJJ"
      }
    },
    {
      "cell_type": "code",
      "source": [
        "def get_word_and_follow(sentences):\n",
        "  dic={}\n",
        "  for sent in sentences:\n",
        "    s=\"\"\n",
        "    dat=sent.split()\n",
        "    for i,word in enumerate(dat[:-1]):\n",
        "      dic[word]=dic.get(word,[])\n",
        "      dic[word].append(dat[i+1]) #add word\n",
        "      s+=word+\" \"\n",
        "      dic[s[:-1]]=dic.get(s,[])\n",
        "      dic[s[:-1]].append(dat[i+1]) #add sent up to that\n",
        "  return dic\n",
        "\n",
        "wordDist=get_word_and_follow(train_words)\n",
        "dictionary=get_word_list(wordDist) #get a dictionary\n",
        "\n",
        "def getInd(d,string):\n",
        "  try:\n",
        "    return d.index(string)\n",
        "  except ValueError:\n",
        "    return -1\n",
        "def get_as_NN_Data(dist,dic):\n",
        "  X=[] #gather data\n",
        "  Y=[] #gather output\n",
        "  for word in dist:\n",
        "    inds=[]\n",
        "    for splitted in word.split(): #gather all present words\n",
        "      inds.append(getInd(dic,splitted))\n",
        "    target=getInd(dic,dist[word])\n",
        "    x=[0 for i in range(len(dic))] #create empty labels\n",
        "    y=[0 for i in range(len(dic))]\n",
        "    y[target]=1\n",
        "    for i in inds: #loop through indicies\n",
        "      if i!=-1:\n",
        "        x[i]=1\n",
        "    X.append(x.copy())\n",
        "    Y.append(y.copy())\n",
        "  return X,Y\n",
        "\n",
        "X_Train,y_Train=get_as_NN_Data(wordDist,dictionary)\n",
        "\n",
        "print(X_Train[3],y_Train[3])"
      ],
      "metadata": {
        "id": "YNmx5TQVitev"
      },
      "execution_count": null,
      "outputs": []
    },
    {
      "cell_type": "code",
      "source": [
        "\n",
        "print(X_Train[100])\n",
        "print(y_Train[100])"
      ],
      "metadata": {
        "id": "xc5a-xyvoe4e"
      },
      "execution_count": null,
      "outputs": []
    },
    {
      "cell_type": "markdown",
      "metadata": {
        "id": "cHY0CdOEdH5o"
      },
      "source": [
        "Create the first model\n",
        "\n",
        "A recurrent neural network is a good choice for this sort of task as the architecture makes it well suited to sequencing. This approach is taken with stochastic gradient descsent as stated in the research paper 'Character-Aware Neural Language Models'.\n",
        "\n",
        "The second approach used a feed-forward network where the vector as input and vector prediction as output. It encountered problems where the gradient optimization would grow infinitely smaller and eventually be an unrecognized value. Sigmoid was the only activation function that prevented this, however would force values between 0 and 1 resulting in incorrect predictions for a population of training data. \n",
        "\n",
        "The next model used labeled representation to represent the output, and labeled representation of the input. This approach improved the accuracy dramatically to 90-100% on the training set. A word, and an end word could be picked and trained, additionally if multiple words are related they can be selected. It takes a while to train."
      ]
    },
    {
      "cell_type": "code",
      "execution_count": 38,
      "metadata": {
        "colab": {
          "base_uri": "https://localhost:8080/",
          "height": 253
        },
        "id": "1A6WqKntdH5p",
        "outputId": "59a80774-4aca-4f93-df88-cf2ee3ed1898"
      },
      "outputs": [
        {
          "output_type": "stream",
          "name": "stdout",
          "text": [
            "100\n"
          ]
        },
        {
          "output_type": "error",
          "ename": "TypeError",
          "evalue": "ignored",
          "traceback": [
            "\u001b[0;31m---------------------------------------------------------------------------\u001b[0m",
            "\u001b[0;31mTypeError\u001b[0m                                 Traceback (most recent call last)",
            "\u001b[0;32m<ipython-input-38-ac4f5da93b1c>\u001b[0m in \u001b[0;36m<module>\u001b[0;34m()\u001b[0m\n\u001b[1;32m     93\u001b[0m \u001b[0mX_Train_cap\u001b[0m\u001b[0;34m,\u001b[0m\u001b[0my_Train_cap\u001b[0m\u001b[0;34m=\u001b[0m\u001b[0mX_Train\u001b[0m\u001b[0;34m[\u001b[0m\u001b[0;36m0\u001b[0m\u001b[0;34m:\u001b[0m\u001b[0mNUM\u001b[0m\u001b[0;34m]\u001b[0m\u001b[0;34m,\u001b[0m\u001b[0my_Train\u001b[0m\u001b[0;34m[\u001b[0m\u001b[0;36m0\u001b[0m\u001b[0;34m:\u001b[0m\u001b[0mNUM\u001b[0m\u001b[0;34m]\u001b[0m\u001b[0;34m\u001b[0m\u001b[0;34m\u001b[0m\u001b[0m\n\u001b[1;32m     94\u001b[0m \u001b[0mprint\u001b[0m\u001b[0;34m(\u001b[0m\u001b[0mlen\u001b[0m\u001b[0;34m(\u001b[0m\u001b[0my_Train_cap\u001b[0m\u001b[0;34m)\u001b[0m\u001b[0;34m)\u001b[0m\u001b[0;34m\u001b[0m\u001b[0;34m\u001b[0m\u001b[0m\n\u001b[0;32m---> 95\u001b[0;31m \u001b[0mnetF\u001b[0m\u001b[0;34m=\u001b[0m\u001b[0mFNN\u001b[0m\u001b[0;34m(\u001b[0m\u001b[0mwords_train\u001b[0m\u001b[0;34m,\u001b[0m\u001b[0minp\u001b[0m\u001b[0;34m=\u001b[0m\u001b[0mlen\u001b[0m\u001b[0;34m(\u001b[0m\u001b[0mX_Train_cap\u001b[0m\u001b[0;34m[\u001b[0m\u001b[0;36m0\u001b[0m\u001b[0;34m]\u001b[0m\u001b[0;34m)\u001b[0m\u001b[0;34m,\u001b[0m\u001b[0mhid\u001b[0m\u001b[0;34m=\u001b[0m\u001b[0mlen\u001b[0m\u001b[0;34m(\u001b[0m\u001b[0my_Train_cap\u001b[0m\u001b[0;34m[\u001b[0m\u001b[0;36m0\u001b[0m\u001b[0;34m]\u001b[0m\u001b[0;34m)\u001b[0m\u001b[0;34m//\u001b[0m\u001b[0;36m2\u001b[0m\u001b[0;34m,\u001b[0m\u001b[0mout\u001b[0m\u001b[0;34m=\u001b[0m\u001b[0mlen\u001b[0m\u001b[0;34m(\u001b[0m\u001b[0my_Train_cap\u001b[0m\u001b[0;34m[\u001b[0m\u001b[0;36m0\u001b[0m\u001b[0;34m]\u001b[0m\u001b[0;34m)\u001b[0m\u001b[0;34m)\u001b[0m\u001b[0;34m\u001b[0m\u001b[0;34m\u001b[0m\u001b[0m\n\u001b[0m\u001b[1;32m     96\u001b[0m \u001b[0mnetF\u001b[0m\u001b[0;34m.\u001b[0m\u001b[0mtrain\u001b[0m\u001b[0;34m(\u001b[0m\u001b[0mX_Train_cap\u001b[0m\u001b[0;34m,\u001b[0m\u001b[0my_Train_cap\u001b[0m\u001b[0;34m,\u001b[0m\u001b[0mepochs\u001b[0m\u001b[0;34m=\u001b[0m\u001b[0;36m1000\u001b[0m\u001b[0;34m)\u001b[0m\u001b[0;34m\u001b[0m\u001b[0;34m\u001b[0m\u001b[0m\n\u001b[1;32m     97\u001b[0m \u001b[0mprint\u001b[0m\u001b[0;34m(\u001b[0m\u001b[0;34m\"End Accuracy\"\u001b[0m\u001b[0;34m,\u001b[0m\u001b[0mnetF\u001b[0m\u001b[0;34m.\u001b[0m\u001b[0mget_accuracy\u001b[0m\u001b[0;34m(\u001b[0m\u001b[0mX_Train_cap\u001b[0m\u001b[0;34m,\u001b[0m\u001b[0my_Train_cap\u001b[0m\u001b[0;34m)\u001b[0m\u001b[0;34m*\u001b[0m\u001b[0;36m100\u001b[0m\u001b[0;34m,\u001b[0m\u001b[0;34m\"%\"\u001b[0m\u001b[0;34m)\u001b[0m\u001b[0;34m\u001b[0m\u001b[0;34m\u001b[0m\u001b[0m\n",
            "\u001b[0;31mTypeError\u001b[0m: object of type 'int' has no len()"
          ]
        }
      ],
      "source": [
        "class FNN:\n",
        "    def __init__(self,words,inp=4,hid=10,out=4,m=0,std=0.2): #feed forward neural network\n",
        "        \n",
        "        self.inp = torch.nn.Parameter(torch.normal(m,std,(inp, hid))) #output hidden\n",
        "        self.h0 = torch.nn.Parameter(torch.normal(m,std,(hid, hid))) #output hidden\n",
        "        #self.h1 = torch.nn.Parameter(torch.normal(m,std,(hid, hid))) #output hidden\n",
        "        self.h2 = torch.nn.Parameter(torch.normal(m,std,(hid, out))) #output hidden\n",
        "        self.words={}\n",
        "        #vecs=convert_to_vector(words)\n",
        "        vecs=get_label_as_data(words)\n",
        "        for i,word in enumerate(words): #create dict\n",
        "            self.words[word]=vecs[i]\n",
        "    def forward(self,item): #pass through network\n",
        "        item=item[:,np.newaxis]\n",
        "        x=torch.tensor(item).float()\n",
        "        x=(torch.mm(x.T, self.inp)) #torch.sigmoid\n",
        "        x=(torch.mm(x, self.h0))\n",
        "        #x=torch.sigmoid(torch.mm(x, self.h1))\n",
        "        x=(torch.mm(x, self.h2))\n",
        "        return x[0]\n",
        "    def train(self,words,targets,epochs=400):\n",
        "        print(\"Training...\")\n",
        "        #get each word in index\n",
        "        \n",
        "        #get words in relation of neigbours\n",
        "        #train word to next word\n",
        "        optimizer = torch.optim.SGD((self.inp,self.h0,self.h2), lr=0.20) #, momentum=0.9\n",
        "        loss_fn = torch.nn.MSELoss()\n",
        "        for epoch in range(epochs):\n",
        "            error=0\n",
        "            correct=0\n",
        "            for i in range(len(words)):\n",
        "                X=self.words.get(words[i],np.array([0,0,0,0]))\n",
        "                y=torch.tensor(targets[i]).double().float()\n",
        "                y=torch.tensor(y,requires_grad=True)\n",
        "               \n",
        "                pred=self.forward(X)\n",
        "                #X=torch.tensor(torch.tensor(X).double(),requires_grad=True)\n",
        "                optimizer.zero_grad()\n",
        "                loss = loss_fn(pred, y)\n",
        "                \n",
        "                loss.backward()\n",
        "                optimizer.step()  \n",
        "                if np.argmax(pred.data.numpy())==i:\n",
        "                    correct+=1\n",
        "                error+=sum(abs(y.data.numpy() - pred.data.numpy()))/4\n",
        "            \n",
        "            if epoch %500 == 0:\n",
        "                #print(loss,torch.round(pred),y)\n",
        "                #print(sum((y.data.numpy() - pred.data.numpy()))/4)\n",
        "                print(\"Accuracy\",correct/len(words))\n",
        "                print(f\"Testing network @ epoch {epoch}\")\n",
        "                print(\"Error:\",error/len(words))\n",
        "        \n",
        "    def getWordThing(self,word):\n",
        "        return self.words.get(word,np.array([0,0,0,0]))\n",
        "    def get_action(self,word):\n",
        "        vec=self.words.get(word,np.array([0,0,0,0])) #give default\n",
        "        word_vec = self.forward(vec).data.numpy() #gather vector\n",
        "        ind=np.argmax(word_vec)\n",
        "        #print(word,word_vec,ind)\n",
        "        return list(self.words.keys())[ind]\n",
        "    def getWord(self,word_vec):\n",
        "        w=\"None\"\n",
        "        for key in self.words:\n",
        "            #print(self.words[key],word_vec)\n",
        "            if np.array_equal(self.words[key],word_vec): #loop through\n",
        "                w=key\n",
        "        return w\n",
        "    def get_accuracy(self,words,labels): #get accuracy\n",
        "        acc=0\n",
        "        for word,label in zip(words,labels): #zip them together\n",
        "            act=self.get_action(word) #get action from this word\n",
        "            #print(act,list(self.words.keys())[np.argmax(label)])\n",
        "            if act==list(self.words.keys())[np.argmax(label)]:\n",
        "                acc+=1\n",
        "        return acc/len(words) #return accuracy\n",
        "\n",
        "\"\"\"\n",
        "NUM_DATA=100\n",
        "words_train=get_word_list(train_words)[0:NUM_DATA]\n",
        "labels=get_label_as_data(words_train[0:NUM_DATA])\n",
        "netF=FNN(words_train,inp=len(words_train),hid=len(labels[0])//2,out=len(labels[0]))\n",
        "#print(netF.forward(x[0]))#\n",
        "#print(words_train[0:4],labels[0:4])\n",
        "netF.train(words_train[0:NUM_DATA],labels[0:NUM_DATA],epochs=1000)  \n",
        "print(\"End Accuracy\",netF.get_accuracy(words_train[0:NUM_DATA],labels[0:NUM_DATA])*100,\"%\")\n",
        "\n",
        "netF.getWordThing(words_train[0])\n",
        "\"\"\"\n",
        "\n",
        "NUM=100\n",
        "X_Train_cap,y_Train_cap=X_Train[0:NUM],y_Train[0:NUM]\n",
        "netF=FNN(words_train,inp=len(X_Train_cap[0]),hid=len(y_Train_cap[0])//2,out=len(y_Train_cap[0]))\n",
        "netF.train(X_Train_cap,y_Train_cap,epochs=1000)  \n",
        "print(\"End Accuracy\",netF.get_accuracy(X_Train_cap,y_Train_cap)*100,\"%\")\n",
        "\n"
      ]
    },
    {
      "cell_type": "markdown",
      "metadata": {
        "id": "W0kWrvQvdH5s"
      },
      "source": [
        "An attempt to make a feed forward neural network was placed in as there were issues with backpropagating the RNN"
      ]
    },
    {
      "cell_type": "markdown",
      "metadata": {
        "id": "ahabHiI2dH5t"
      },
      "source": [
        "Create the second model\n",
        "\n",
        "Using a cluster of n gram models we can predict likelihood of words based on different categories. The frequency of words are calculated in each unigram, bigram and trigram model. When a cluster prediction is made it finds the most likely and most frequent next word from the models. Each model by itself had a poor accuracy, which was improved by over 2% by using them as clustered. Weighting of importance is applied as n rises in the gram model, as words become rarer. This once again improved tha accuracy."
      ]
    },
    {
      "cell_type": "code",
      "execution_count": null,
      "metadata": {
        "id": "8gJYN-x3dH5t",
        "outputId": "2e221483-a9eb-4376-bf81-58b441d0b3a6"
      },
      "outputs": [
        {
          "name": "stdout",
          "output_type": "stream",
          "text": [
            "Unigram accuracy 0.303951367781155 %\n",
            "Bigram accuracy 0.3246753246753247 %\n",
            "Trigram accuracy 0.0 %\n",
            "Cluster Accuracy: 2.3952095808383236 %\n"
          ]
        }
      ],
      "source": [
        "class n_gram:\n",
        "    def __init__(self,sentences,n):\n",
        "        self.n=n\n",
        "        self.sent=sentences\n",
        "        #begin \n",
        "        self.data={}\n",
        "        self.format()\n",
        "    def format(self):\n",
        "        for sentence in self.sent:\n",
        "            words=sentence.split()\n",
        "            develop_n = []\n",
        "            for k in range(len(words)): #gather each word \n",
        "                i=0\n",
        "                s=\"\"\n",
        "                while i+k<len(words) and i<self.n: #get in terms of word connection\n",
        "                    s+=words[k+i].replace(\",\",\"\").replace(\";\",\"\").replace(\"*\",\"\").replace(\"'\",\"\").replace(\"#\",\"\").replace(\"[\",\"\").replace(\"]\",\"\")+\"-\"\n",
        "                    i+=1\n",
        "                develop_n.append(s[:-1]) #add connections\n",
        "            for i,cont in enumerate(develop_n): #loop through number in sentence\n",
        "                if i+self.n+1<len(words): #validate next word\n",
        "                    nextword=words[i+self.n].replace(\",\",\"\").replace(\";\",\"\").replace(\"*\",\"\").replace(\"'\",\"\").replace(\"#\",\"\").replace(\"[\",\"\").replace(\"]\",\"\")\n",
        "                    self.data[cont]=self.data.get(cont,{})\n",
        "                    self.data[cont][nextword]=self.data[cont].get(nextword,0)+1 #count\n",
        "    def get_predict(self,phrase): #get a prediction of a word\n",
        "        phrase=phrase.replace(\" \",\"-\")\n",
        "        words=self.data.get(phrase,None)\n",
        "        if words==None: return \"no word found\"\n",
        "        return {k: v for k, v in sorted(words.items(), key=lambda item: item[1])} #get return\n",
        "    def get_accuracy(self,words):\n",
        "        c=0\n",
        "        a=0\n",
        "        for sent in words: #loop through the sentences\n",
        "            sent=sent.replace(\",\",\"\").replace(\";\",\"\").replace(\"*\",\"\").replace(\"'\",\"\").replace(\"#\",\"\").replace(\"[\",\"\").replace(\"]\",\"\") #validate\n",
        "            sent=sent.split()\n",
        "            if len(sent)-2-self.n>self.n:              \n",
        "                num=random.randint(self.n,len(sent)-2-self.n) #get idx point\n",
        "                phrase=sent[num-self.n:num]\n",
        "                s=\"\"\n",
        "                for i in range(self.n): s+=phrase[i]+\"-\"\n",
        "                c+=1\n",
        "                pred=self.get_predict(s[:-1])\n",
        "                #print(phrase,list(pred.keys())[0])\n",
        "                if pred!=\"no word found\" and list(pred.keys())[0]==sent[num+1]: a+= 1 #correct prediction\n",
        "        return a/c\n",
        "unigram=n_gram(train_words.copy(),1)\n",
        "print(\"Unigram accuracy\",unigram.get_accuracy(train_words)*100,\"%\")\n",
        "bigram=n_gram(train_words.copy(),2)\n",
        "print(\"Bigram accuracy\",bigram.get_accuracy(train_words)*100,\"%\")\n",
        "trigram=n_gram(train_words.copy(),3)\n",
        "print(\"Trigram accuracy\",trigram.get_accuracy(train_words)*100,\"%\")\n",
        "def most_common(lst):\n",
        "    cur_length = 0\n",
        "    max_length = 0\n",
        "    cur_i = 0\n",
        "    max_i = 0\n",
        "    cur_item = None\n",
        "    max_item = None\n",
        "    for i, item in sorted(enumerate(lst), key=lambda x: x[1]):\n",
        "        if cur_item is None or cur_item != item:\n",
        "            if cur_length > max_length or (cur_length == max_length and cur_i < max_i):\n",
        "                max_length = cur_length\n",
        "                max_i = cur_i\n",
        "                max_item = cur_item\n",
        "            cur_length = 1\n",
        "            cur_i = i\n",
        "            cur_item = item\n",
        "        else:\n",
        "            cur_length += 1\n",
        "    if cur_length > max_length or (cur_length == max_length and cur_i < max_i):\n",
        "        return cur_item\n",
        "    return max_item\n",
        "def clusterPredict(sentence,mod1,mod2,mod3):\n",
        "    firstLast,secondLast,thirdLast=sentence[-1],sentence[-2],sentence[-3]\n",
        "    preds1,preds2,preds3=[mod1.get_predict(firstLast),\n",
        "    mod2.get_predict(firstLast+\"-\"+secondLast),\n",
        "    mod3.get_predict(firstLast+\"-\"+secondLast+\"-\"+thirdLast)]\n",
        "    words=[]\n",
        "    multiplier=1\n",
        "    for dict in [preds1,preds2,preds3]: #loop through all predictions\n",
        "        if dict!=\"no word found\":\n",
        "            for key in dict:\n",
        "                for i in range(dict[key]*multiplier):\n",
        "                    words.append(key) #add multiple times if occurs multiple \n",
        "        multiplier+=1\n",
        "    return most_common(words) #get most common word in list\n",
        "acc=0\n",
        "num=len(train_words)\n",
        "for i in range(num):\n",
        "    sent=train_words[i].split()\n",
        "    if len(sent)>=4:\n",
        "        pred=clusterPredict(sent[0:-1],unigram,bigram,trigram)\n",
        "        if sent[-1]==pred: acc+=1\n",
        "print(\"Cluster Accuracy:\",acc/num *100,\"%\")\n"
      ]
    },
    {
      "cell_type": "markdown",
      "metadata": {
        "id": "8IO-fFvKdH5z"
      },
      "source": [
        "Evaluate performance\n",
        "\n",
        "Experimentation with the number of models within the cluster prediction takes place to experiment what the optimal clustering models are."
      ]
    },
    {
      "cell_type": "code",
      "execution_count": null,
      "metadata": {
        "id": "oWTReiQMdH54",
        "outputId": "5f4a4de8-345f-48a5-a7cc-cb94b1c6331b"
      },
      "outputs": [
        {
          "name": "stdout",
          "output_type": "stream",
          "text": [
            "1 model\n",
            "2 model\n",
            "3 model\n",
            "4 model\n"
          ]
        },
        {
          "data": {
            "image/png": "[encoded data removed]",
            "text/plain": [
              "<Figure size 432x288 with 1 Axes>"
            ]
          },
          "metadata": {
            "needs_background": "light"
          },
          "output_type": "display_data"
        }
      ],
      "source": [
        "def clusterPredictX(sentence,mods):\n",
        "    words=[sentence[-1],sentence[-2],sentence[-3],sentence[-4]]\n",
        "    preds=[]\n",
        "    for i,mod in enumerate(mods):\n",
        "        s=\"\"\n",
        "        for w in range(len(mods)):\n",
        "            s=words[w]+\"-\"+s\n",
        "        preds.append(mod.get_predict(s[:-1]))\n",
        "    words=[]\n",
        "    multiplier=1\n",
        "    for dict in preds: #loop through all predictions\n",
        "        if dict!=\"no word found\":\n",
        "            for key in dict:\n",
        "                for i in range(dict[key]*multiplier):\n",
        "                    words.append(key) #add multiple times if occurs multiple \n",
        "        multiplier+=1\n",
        "    return most_common(words) #get most common word in list\n",
        "sentence=train_words[0].split()\n",
        "\n",
        "acc_=[]\n",
        "sizes=[]\n",
        "NUM = len(train_words)\n",
        "num_models=4\n",
        "for i in range(num_models): #get model sizes\n",
        "    print(str(i+1)+\" model\")\n",
        "    s=[]\n",
        "    a=[]\n",
        "    for word_set in range(100,len(train_words),500): #get sample sizes\n",
        "        unigram=n_gram(train_words.copy()[0:word_set],1)\n",
        "        bigram=n_gram(train_words.copy()[0:word_set],2)\n",
        "        trigram=n_gram(train_words.copy()[0:word_set],3)\n",
        "        quadgram=n_gram(train_words.copy()[0:word_set],4)\n",
        "        models=[unigram,bigram,trigram,quadgram]\n",
        "        mods=models[0:i+1] #get increasing size\n",
        "\n",
        "        acc=0\n",
        "        num=len(train_words[0:word_set])\n",
        "        for k in range(num): #loop through words\n",
        "            sent=train_words[k].split()\n",
        "            if len(sent)>=5:\n",
        "                pred=clusterPredictX(sent[0:-1],mods)\n",
        "                if sent[-1]==pred: acc+=1 \n",
        "        a.append(acc/num *100)\n",
        "        s.append(word_set)\n",
        "    acc_.append(a.copy())\n",
        "    sizes.append(s.copy())\n",
        "\n",
        "plt.title(\"Cluster model accuracy against size of data with different cluster sizes\")\n",
        "plt.plot(sizes[0],acc_[0],c=\"r\",label=\"One model cluster\")\n",
        "plt.plot(sizes[1],acc_[1],c=\"b\",label=\"Two model cluster\")\n",
        "plt.plot(sizes[2],acc_[2],c=\"g\",label=\"Three model cluster\")\n",
        "plt.plot(sizes[3],acc_[3],c=\"y\",label=\"Four model cluster\")\n",
        "plt.ylabel(\"Accuracy %\")\n",
        "plt.xlabel(\"Wordset size\")\n",
        "plt.legend(loc=\"upper left\")\n",
        "plt.show()"
      ]
    },
    {
      "cell_type": "code",
      "execution_count": null,
      "metadata": {
        "id": "-rQCszTSdH55",
        "outputId": "b869f01f-2b85-4212-f9b6-8aa54f252f84"
      },
      "outputs": [
        {
          "name": "stdout",
          "output_type": "stream",
          "text": [
            "1 model\n",
            "2 model\n",
            "3 model\n",
            "4 model\n"
          ]
        },
        {
          "data": {
            "image/png": "[encoded data removed]",
            "text/plain": [
              "<Figure size 432x288 with 1 Axes>"
            ]
          },
          "metadata": {
            "needs_background": "light"
          },
          "output_type": "display_data"
        }
      ],
      "source": [
        "def clusterPredictXM(sentence,mods):\n",
        "    words=[sentence[-1],sentence[-2],sentence[-3],sentence[-4]]\n",
        "    preds=[]\n",
        "    for i,mod in enumerate(mods):\n",
        "        s=\"\"\n",
        "        for w in range(len(mods)):\n",
        "            s=words[w]+\"-\"+s\n",
        "        preds.append(mod.get_predict(s[:-1]))\n",
        "    words=[]\n",
        "    multiplier=1\n",
        "    for dict in preds: #loop through all predictions\n",
        "        if dict!=\"no word found\":\n",
        "            for key in dict:\n",
        "                for i in range(dict[key]):\n",
        "                    words.append(key) #add multiple times if occurs multiple \n",
        "        multiplier+=1\n",
        "    return most_common(words) #get most common word in list\n",
        "sentence=train_words[0].split()\n",
        "\n",
        "acc_=[]\n",
        "sizes=[]\n",
        "NUM = len(train_words)\n",
        "num_models=4\n",
        "for i in range(num_models): #get model sizes\n",
        "    print(str(i+1)+\" model\")\n",
        "    s=[]\n",
        "    a=[]\n",
        "    for word_set in range(100,len(train_words),500): #get sample sizes\n",
        "        unigram=n_gram(train_words.copy()[0:word_set],1)\n",
        "        bigram=n_gram(train_words.copy()[0:word_set],2)\n",
        "        trigram=n_gram(train_words.copy()[0:word_set],3)\n",
        "        quadgram=n_gram(train_words.copy()[0:word_set],4)\n",
        "        models=[unigram,bigram,trigram,quadgram]\n",
        "        mods=models[0:i+1] #get increasing size\n",
        "\n",
        "        acc=0\n",
        "        num=len(train_words[0:word_set])\n",
        "        for k in range(num): #loop through words\n",
        "            sent=train_words[k].split()\n",
        "            if len(sent)>=5:\n",
        "                pred=clusterPredictXM(sent[0:-1],mods)\n",
        "                if sent[-1]==pred: acc+=1 \n",
        "        a.append(acc/num *100)\n",
        "        s.append(word_set)\n",
        "    acc_.append(a.copy())\n",
        "    sizes.append(s.copy())\n",
        "\n",
        "plt.title(\"Cluster model accuracy against size of data with different cluster sizes without multiplier weight\")\n",
        "plt.plot(sizes[0],acc_[0],c=\"r\",label=\"One model cluster\")\n",
        "plt.plot(sizes[1],acc_[1],c=\"b\",label=\"Two model cluster\")\n",
        "plt.plot(sizes[2],acc_[2],c=\"g\",label=\"Three model cluster\")\n",
        "plt.plot(sizes[3],acc_[3],c=\"y\",label=\"Four model cluster\")\n",
        "plt.ylabel(\"Accuracy %\")\n",
        "plt.xlabel(\"Wordset size\")\n",
        "plt.legend(loc=\"upper left\")\n",
        "plt.show()"
      ]
    },
    {
      "cell_type": "code",
      "execution_count": null,
      "metadata": {
        "id": "1FUsrZwJdH57",
        "outputId": "dcacfdf5-8d48-4338-e62b-a4d395155c6e"
      },
      "outputs": [
        {
          "data": {
            "image/png": "[encoded data removed]",
            "text/plain": [
              "<Figure size 432x288 with 1 Axes>"
            ]
          },
          "metadata": {
            "needs_background": "light"
          },
          "output_type": "display_data"
        }
      ],
      "source": [
        "\n",
        "\n",
        "s=[[],[],[],[]]\n",
        "a=[[],[],[],[]]\n",
        "\n",
        "for word_set in range(1000,len(train_words),100): #get sample sizes\n",
        "    #create models of different n\n",
        "    unigram=n_gram(train_words.copy()[0:word_set],1)\n",
        "    bigram=n_gram(train_words.copy()[0:word_set],2)\n",
        "    trigram=n_gram(train_words.copy()[0:word_set],3)\n",
        "    \n",
        "    #calculate accuracies\n",
        "    acc1=unigram.get_accuracy(train_words[0:word_set])*100\n",
        "    acc2=bigram.get_accuracy(train_words[0:word_set])*100\n",
        "    acc3=trigram.get_accuracy(train_words[0:word_set])*100\n",
        "    \n",
        "    #add each accuracy\n",
        "    a[0].append(acc1/word_set *100)\n",
        "    s[0].append(word_set)\n",
        "\n",
        "    a[1].append(acc2/word_set *100)\n",
        "    s[1].append(word_set)\n",
        "\n",
        "    a[2].append(acc3/word_set *100)\n",
        "    s[2].append(word_set)\n",
        "\n",
        "plt.title(\"Model accuracy against size of data with different n-gram models\")\n",
        "plt.plot(s[0],a[0],c=\"r\",label=\"Bigram\")\n",
        "plt.plot(s[1],a[1],c=\"b\",label=\"UniGram\")\n",
        "plt.plot(s[2],a[2],c=\"g\",label=\"Trigram\")\n",
        "plt.ylabel(\"Accuracy %\")\n",
        "plt.xlabel(\"Wordset size\")\n",
        "plt.legend(loc=\"upper left\")\n",
        "plt.show()"
      ]
    }
  ],
  "metadata": {
    "interpreter": {
      "hash": "a4dd024378a2eab6b61421bb2db15dae0e0d8b99b3e2b4f86d231a4685d0f22e"
    },
    "kernelspec": {
      "display_name": "Python 3.8.10 64-bit (windows store)",
      "language": "python",
      "name": "python3"
    },
    "language_info": {
      "codemirror_mode": {
        "name": "ipython",
        "version": 3
      },
      "file_extension": ".py",
      "mimetype": "text/x-python",
      "name": "python",
      "nbconvert_exporter": "python",
      "pygments_lexer": "ipython3",
      "version": "3.8.10"
    },
    "orig_nbformat": 4,
    "colab": {
      "name": "main.ipynb",
      "provenance": []
    }
  },
  "nbformat": 4,
  "nbformat_minor": 0
}