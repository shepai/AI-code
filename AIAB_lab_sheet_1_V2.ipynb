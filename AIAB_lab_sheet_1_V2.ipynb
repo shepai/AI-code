{
  "nbformat": 4,
  "nbformat_minor": 0,
  "metadata": {
    "colab": {
      "name": "AIAB_lab_sheet_1-V2.ipynb",
      "provenance": [],
      "collapsed_sections": [],
      "include_colab_link": true
    },
    "kernelspec": {
      "name": "python3",
      "display_name": "Python 3"
    }
  },
  "cells": [
    {
      "cell_type": "markdown",
      "metadata": {
        "id": "view-in-github",
        "colab_type": "text"
      },
      "source": [
        "<a href=\"https://colab.research.google.com/github/shepai/AI-code/blob/main/AIAB_lab_sheet_1_V2.ipynb\" target=\"_parent\"><img src=\"https://colab.research.google.com/assets/colab-badge.svg\" alt=\"Open In Colab\"/></a>"
      ]
    },
    {
      "cell_type": "markdown",
      "metadata": {
        "id": "Mp7i_jzAKGPy"
      },
      "source": [
        "<h1><center><b> Acquired Intelligence & Adaptive Behaviour </b></center></h1>\n",
        "<h2><center><i>Artificial Neural Networks (Lab Sheet 01) </i></center></h2>\n",
        "\n",
        "\n",
        "> _If you find any bugs in this notebook, please contact `tschantz.alec@gmail.com`_\n",
        "\n",
        "Welcome to the first _Acquired Intelligence & Adaptive Behaviour_ lab session. In this notebook, we will be learning how to implement artifical neural networks in [PyTorch](https://pytorch.org/). The notebook assumes basic familiarity with `python` and `pytorch`. Please refer to the course lecture __Intro to Python and Pytorch__ for a gentle introduction to the relevant concepts. \n",
        "\n",
        "\n",
        "### _Goals for this notebook_\n",
        " 1. Get familiar with `pytorch` \n",
        " 2. Manually implement a feed-forward neural network to solve NOT / AND / OR gates\n",
        " 3. Use backpropagation to solve XOR gates\n",
        " 4. Experiment with recurrent neural networks\n",
        " 5. Use backproagation to learn a sine wave\n",
        "\n",
        "### _Table of Contents_\n",
        "- [1. Setting up your environment ](#setup)  \n",
        "- [2. Building your first neural network ](#feedforward)  \n",
        "- [3. Implementing logic gates](#3)  \n",
        "- [4. Training a neural network](#4)\n"
      ]
    },
    {
      "cell_type": "markdown",
      "metadata": {
        "id": "xWEgE2frLmQf"
      },
      "source": [
        "## 1. Setting up your environment <a id=\"setup\"></a> \n",
        "\n",
        "I highly recommend using [`Google colab`](https://colab.research.google.com) for these lab sessions. It will save you having to install packages and give you access to GPU acceleration. I will have only tested these notebooks on Google colab, so please only run locally if you are comfortable with `Python`. \n",
        "\n",
        "For a basic introduction to `Google colab`, please refer to this [link](https://colab.research.google.com/), where you will find a number of introductory notebooks. I recommend saving a copy of this notebook in Google drive (`File > Save a copy in Drive`).\n",
        "\n",
        "__Some tips__: `Python` notebooks are extremely useful for quick development. However, [they have some notable downsides](https://docs.google.com/presentation/d/1n2RlMdmv1p25Xy5thJUhkKGvjtV-dkAIsUXP-AL4ffI/preview). Variables and state are shared across cells, and this will inevitably cause you a range of hard to detect errors. If you run into an issue which you can't solve, try doing `Runtime > Restart and run all`, which will reset the environment and run your cells in order. \n",
        "\n",
        "## Importing packages\n",
        "\n",
        "If you are using `Google colab`, you will not need to install anything. If you are running this notebook locally (not recommended), you will need to install `matplotlib`, `numpy` and `pytorch`:\n",
        "\n",
        "```bash\n",
        "pip install matplotlib\n",
        "pip install numpy\n",
        "pip install torch \n",
        "```\n",
        "\n",
        "To check you have the correct packages installed, run the cell below, which will import the packages so that they can be used later:"
      ]
    },
    {
      "cell_type": "code",
      "metadata": {
        "colab": {
          "base_uri": "https://localhost:8080/"
        },
        "id": "yIwSn0ZzatQh",
        "outputId": "40fcf461-f405-4600-c2cf-a699eac0d7a6"
      },
      "source": [
        "import matplotlib.pyplot as plt \n",
        "import numpy as np\n",
        "import torch\n",
        "print(\"Packages successfully imported!\")"
      ],
      "execution_count": 1,
      "outputs": [
        {
          "output_type": "stream",
          "name": "stdout",
          "text": [
            "Packages successfully imported!\n"
          ]
        }
      ]
    },
    {
      "cell_type": "markdown",
      "metadata": {
        "id": "pDwPFV-abXtN"
      },
      "source": [
        "## 2. Building your first neural network <a id=\"feedforward\"></a> \n",
        "\n",
        "Implementing artifical neural networks can be broken down into two steps, __(1)__ constructing your neural network and __(2)__ learning the weights of your neural network. In this first section, we are going to be dealing with __(1)__. \n",
        "\n",
        "I will assume that you are already familiar with the basics of neural networks. If you are not, please refer to the lecture slides. To recap, neural networks involve some input $x$, some weights $W$, optionally, a bias $b$, an activation funtion $f$, and an output $y$:\n",
        "\n",
        "$$ \n",
        "y = f(W \\cdot x + b)\n",
        "$$\n",
        "\n",
        "Pictorially, this can be represented as:\n",
        "\n",
        "<center><img src=\"https://media.springernature.com/lw785/springer-static/image/chp%3A10.1007%2F978-981-10-5687-1_8/MediaObjects/430883_1_En_8_Fig2_HTML.gif\" width=\"500\"></center>\n",
        "\n",
        "When constructing a neural network, the first question to ask is: how are each of these components represented in code? Let us look at each in more detail:\n",
        "\n",
        "| Component      | Description |\n",
        "| ----------- | ----------- |\n",
        "| __Input $x$__      | $1 \\times N_{\\mathrm{input}}$ vector, where $N_{\\mathrm{input}}$ is the size of your input       |\n",
        "| __Weights $W$__   | $N_{\\mathrm{input}} \\times N_{\\mathrm{output}}$ matrix, where $N_{\\mathrm{output}}$ is the size of your output. $W_{ij}$ will be the weight connecting input $i$ to output $j$ |\n",
        "|__Bias $b$__| $1 \\times N_{\\mathrm{output}}$ vector |\n",
        "|__Activation function $f$__| Any differentiable linear or non-linear function which takes $W \\cdot x + b$ (a vector of size $1 \\times N_{\\mathrm{output}}$) and returns a vector of the same size  |\n",
        "|__Output $y$__| $1 \\times N_{\\mathrm{output}}$ vector|\n",
        "\n"
      ]
    },
    {
      "cell_type": "markdown",
      "metadata": {
        "id": "toKCtcDZnzRV"
      },
      "source": [
        "> **Task**: In the code below, I have provided some random input $x$ and an activation function $f$. _**You must to construct a matrix of random weights and a vector of random biases which have the correct size.**_\n",
        "\n",
        "**Tips**: The code `torch.mm(x, W)` implements $W \\cdot x$ (`mm` stands for matrix multiply). Check out this [link](https://towardsdatascience.com/linear-algebra-cheat-sheet-for-deep-learning-cd67aba4526c) for more information of matrix multiplication. You can use `torch.rand` to generate random matrices and vectors, see this [link](https://pytorch.org/docs/stable/generated/torch.rand.html).\n",
        "\n",
        "You can safely ignore the activation function for now, we will use this in the following example. \n"
      ]
    },
    {
      "cell_type": "code",
      "metadata": {
        "id": "0Qo1asCgdKuM",
        "colab": {
          "base_uri": "https://localhost:8080/"
        },
        "outputId": "4c3c26e7-fbbe-4d15-e3bd-32d2af8b8d9f"
      },
      "source": [
        "num_input = 7\n",
        "num_output = 5\n",
        "\n",
        "# Input\n",
        "x = torch.rand(1, num_input)\n",
        "# Weights (todo)\n",
        "W = torch.rand(num_input, num_output)\n",
        "# biases (todo)\n",
        "b = torch.rand(1, num_output)\n",
        "\n",
        "# Activation function\n",
        "def f(inp):\n",
        "    inp[inp >= 0] = 1\n",
        "    inp[inp < 0] = 0\n",
        "    return inp\n",
        "\n",
        "# Predict output\n",
        "y = f(torch.mm(x, W) + b)\n",
        "\n",
        "# Check solution\n",
        "assert list(y.size()) == [1, num_output], f\"Incorrect output size ({y.size()})\"\n",
        "print(\"Well done, your weights and biases are the correct size!\")"
      ],
      "execution_count": 3,
      "outputs": [
        {
          "output_type": "stream",
          "name": "stdout",
          "text": [
            "Well done, your weights and biases are the correct size!\n"
          ]
        }
      ]
    },
    {
      "cell_type": "markdown",
      "metadata": {
        "id": "89wRVG6iTcsU"
      },
      "source": [
        "## 3. Implementing logic gates <a id=\"3\"></a> \n",
        "\n",
        "The next step is to make our neural network do something interesting. Neural networks encode knowledge in the weights and biases. These are usually learnt, but for simple problems, we can construct them by hand. A classic problem is implementing [logic gates](https://en.wikipedia.org/wiki/Logic_gate). \n",
        "\n",
        "### 3a. `AND` gate\n",
        "\n",
        "The AND gate is defined as follows:\n",
        "\n",
        "| INPUT    | OUTPUT |\n",
        "| ----------- | ----------- |\n",
        "|0  / 0 | 0 |\n",
        "|0  / 1 | 0 |\n",
        "|1  / 0 | 0 |\n",
        "|1  / 1 | 1 |\n",
        "\n",
        "In other words, if the input is both one, output one, otherwise, output zero. What does the neural network representation of this problem look like? We can see that our network will take two inputs ($N_{\\mathrm{input}} = 2$) and output one number ($N_{\\mathrm{output}} = 1$)."
      ]
    },
    {
      "cell_type": "markdown",
      "metadata": {
        "id": "ufDWUNIOV5PC"
      },
      "source": [
        "> **Task**: In the code below, I have provided inputs and outputs which represent the `AND` problem. _**You must to construct a matrix of  weights and a vector of biases which solve the problem.**_\n",
        "\n",
        "**Tips**: The activation function I have provided implements a binary threshold. If $W\\cdot x + b \\geq 0$, then it outputs 1, and if $W\\cdot x + b < 0$, it outputs 0. \n",
        "\n",
        "There are several ways to construct matrices by hand. The simplest is to pass a list of lists into `torch.tensor` (which will allow it to be used within `pytorch`).\n",
        "\n",
        "A $4 \\times 2$ matrix can be constructed using:\n",
        "\n",
        "```python\n",
        "torch.tensor([[0., 0.], [0., 1.], [1., 0.], [1., 1.]])\n",
        "``` \n",
        "$$\n",
        "\\begin{pmatrix}\n",
        "0 & 0 \\\\\n",
        "0 & 1 \\\\\n",
        "1 & 0 \\\\\n",
        "1 & 1 \\\\\n",
        "\\end{pmatrix}\n",
        "$$\n",
        "\n",
        "Alternatively, you could get the same result by doing:\n",
        "```python\n",
        "torch.tensor([[0., 0., 1., 1.], [0., 1., 0., 1.]]).T\n",
        "``` \n",
        "\n",
        "where `.T` is the [_transpose_](https://en.wikipedia.org/wiki/Transpose).\n",
        "\n",
        "You'll also notice that there is `.unsqueeze(0)` when getting each example. This adds an extra leading dimension, e.g. converts a vector of size `[4]` to one of size `[1 x 4]`. This is necessary for the matrix multiply. \n",
        "\n",
        "Finally, you may run into the following error:\n",
        "\n",
        "```python\n",
        "RuntimeError: expected scalar type Float but found Long\n",
        "```\n",
        "`Pytorch` is very strict about the types of data you have inside a tensor (e.g. is it an `int`, a `float`, etc). Most of the time you will want to use float. There are several ways to achieve this: you can put decimal places infront of your numbers (e.g. `[3.0, 2.0]` instead of `[3, 2]`), or you can call the function `.float()` on any tensor to convert it. "
      ]
    },
    {
      "cell_type": "code",
      "metadata": {
        "id": "nV8OIVmHV8JQ",
        "colab": {
          "base_uri": "https://localhost:8080/"
        },
        "outputId": "c0fa7075-c276-4f3e-89e3-59ac89048345"
      },
      "source": [
        "# Define our data for AND problem\n",
        "input_data = torch.tensor([[0., 0.], [0., 1.], [1., 0.], [1., 1.]])\n",
        "output_data = torch.tensor([[0.], [0.], [0.], [1.]])\n",
        "print(f\"We have {input_data.size(0)} examples\")\n",
        "print(f\"Input is size {input_data.size(1)} and output is size {output_data.size(1)}\")\n",
        "\n",
        "# Define our weights and biases (todo)\n",
        "W = torch.tensor([[2.], [2.]]) \n",
        "b = torch.tensor([[-3.]])\n",
        "assert list(W.size()) == [2, 1], f\"Weights are incorrect size ({W.size()})\"\n",
        "assert list(b.size()) == [1, 1], f\"Biases are incorrect size ({b.size()})\"\n",
        "\n",
        "# Activation function\n",
        "def f(inp):\n",
        "    inp[inp >= 0] = 1\n",
        "    inp[inp < 0] = 0\n",
        "    return inp\n",
        "\n",
        "# Loop over each example\n",
        "for i in range(input_data.size(0)):\n",
        "    # Get example `i` (and unsqueeze to [1, 2] and [1, 1])\n",
        "    x = input_data[i].unsqueeze(0)\n",
        "    y = output_data[i].unsqueeze(0)\n",
        "\n",
        "    # Predict output \n",
        "    y_hat = f(torch.mm(x, W) + b)\n",
        "\n",
        "    # Check predictions are correct\n",
        "    print(f\"Prediction {y_hat}, desired output {y}\")\n",
        "    assert (y == y_hat), f\"{y_hat} does not equal {y}\"\n",
        "\n",
        "print(\"Well done, your weights and biases are correct!\")"
      ],
      "execution_count": 11,
      "outputs": [
        {
          "output_type": "stream",
          "name": "stdout",
          "text": [
            "We have 4 examples\n",
            "Input is size 2 and output is size 1\n",
            "Prediction tensor([[0.]]), desired output tensor([[0.]])\n",
            "Prediction tensor([[0.]]), desired output tensor([[0.]])\n",
            "Prediction tensor([[0.]]), desired output tensor([[0.]])\n",
            "Prediction tensor([[1.]]), desired output tensor([[1.]])\n",
            "Well done, your weights and biases are correct!\n"
          ]
        }
      ]
    },
    {
      "cell_type": "markdown",
      "metadata": {
        "id": "j3YEZxBTdiIp"
      },
      "source": [
        "### 3b. `OR` gate\n",
        "\n",
        "The OR gate is defined as follows:\n",
        "\n",
        "| INPUT    | OUTPUT |\n",
        "| ----------- | ----------- |\n",
        "|0  / 0 | 0 |\n",
        "|0  / 1 | 1 |\n",
        "|1  / 0 | 1 |\n",
        "|1  / 1 | 1 |\n"
      ]
    },
    {
      "cell_type": "markdown",
      "metadata": {
        "id": "TVitPijnd9BE"
      },
      "source": [
        "> **Task**: In the code below, I have provided inputs and outputs which represent the `OR` problem. _**You must to construct a matrix of  weights and a vector of biases which solve the problem.**_"
      ]
    },
    {
      "cell_type": "code",
      "metadata": {
        "id": "7sfhNe55d-Ni",
        "outputId": "0a44f891-7c91-4ff9-8e81-135348d179fd",
        "colab": {
          "base_uri": "https://localhost:8080/"
        }
      },
      "source": [
        "# Define our data for AND problem\n",
        "input_data = torch.tensor([[0., 0.], [0., 1.], [1., 0.], [1., 1.]])\n",
        "output_data = torch.tensor([[0.], [1.], [1.], [1.]])\n",
        "\n",
        "# Define our weights and biases (todo)\n",
        "W = torch.tensor([[1.], [1.]]) \n",
        "b = torch.tensor([[0.]])\n",
        "\n",
        "assert list(W.size()) == [2, 1], f\"Weights are incorrect size ({W.size()})\"\n",
        "assert list(b.size()) == [1, 1], f\"Biases are incorrect size ({b.size()})\"\n",
        "\n",
        "# Activation function\n",
        "def f(inp):\n",
        "    inp[inp > 0] = 1\n",
        "    inp[inp <= 0] = 0\n",
        "    return inp\n",
        "\n",
        "# Loop over each example\n",
        "for i in range(input_data.size(0)):\n",
        "    # Get example `i` (and unsqueeze to [1, 2] and [1, 1])\n",
        "    x = input_data[i].unsqueeze(0)\n",
        "    y = output_data[i].unsqueeze(0)\n",
        "\n",
        "    # Predict output \n",
        "    y_hat = f(torch.mm(x, W) + b)\n",
        "\n",
        "    # Check predictions are correct\n",
        "    print(f\"Prediction {y_hat}, desired output {y}\")\n",
        "    assert (y == y_hat), f\"{y_hat} does not equal {y}\"\n",
        "\n",
        "print(\"Well done, your weights and biases are correct!\")"
      ],
      "execution_count": 13,
      "outputs": [
        {
          "output_type": "stream",
          "name": "stdout",
          "text": [
            "Prediction tensor([[0.]]), desired output tensor([[0.]])\n",
            "Prediction tensor([[1.]]), desired output tensor([[1.]])\n",
            "Prediction tensor([[1.]]), desired output tensor([[1.]])\n",
            "Prediction tensor([[1.]]), desired output tensor([[1.]])\n",
            "Well done, your weights and biases are correct!\n"
          ]
        }
      ]
    },
    {
      "cell_type": "markdown",
      "metadata": {
        "id": "MNA3Eq3Sebws"
      },
      "source": [
        "### 3c. `NOR` gate\n",
        "\n",
        "The NOR gate is defined as follows:\n",
        "\n",
        "| INPUT    | OUTPUT |\n",
        "| ----------- | ----------- |\n",
        "|0  / 0 | 1 |\n",
        "|0  / 1 | 0 |\n",
        "|1  / 0 | 0 |\n",
        "|1  / 1 | 0 |"
      ]
    },
    {
      "cell_type": "markdown",
      "metadata": {
        "id": "IYRr7-TOleWM"
      },
      "source": [
        "> **Task**: In the code below, I have provided inputs and outputs which represent the `NOT` problem. _**You must to construct a matrix of  weights and a vector of biases which solve the problem.**_"
      ]
    },
    {
      "cell_type": "code",
      "metadata": {
        "id": "CH6QqmQiewpZ",
        "colab": {
          "base_uri": "https://localhost:8080/"
        },
        "outputId": "f8ab135d-bd85-4c12-aed7-e59060ee178a"
      },
      "source": [
        "# Define our data for AND problem\n",
        "input_data = torch.tensor([[0., 0.], [0., 1.], [1., 0.], [1., 1.]])\n",
        "output_data = torch.tensor([[1.], [0.], [0.], [0.]])\n",
        "\n",
        "# Define our weights and biases (todo)\n",
        "W = torch.tensor([[-1.], [-1.]])\n",
        "b = torch.tensor([[0.]])\n",
        "assert list(W.size()) == [2, 1], f\"Weights are incorrect size ({W.size()})\"\n",
        "assert list(b.size()) == [1, 1], f\"Biases are incorrect size ({b.size()})\"\n",
        "\n",
        "# Activation function\n",
        "def f(inp):\n",
        "    inp[inp >= 0] = 1\n",
        "    inp[inp < 0] = 0\n",
        "    return inp\n",
        "\n",
        "# Loop over each example\n",
        "for i in range(input_data.size(0)):\n",
        "    # Get example `i` (and unsqueeze to [1, 2] and [1, 1])\n",
        "    x = input_data[i].unsqueeze(0)\n",
        "    y = output_data[i].unsqueeze(0)\n",
        "\n",
        "    # Predict output \n",
        "    y_hat = f(torch.mm(x, W) + b)\n",
        "\n",
        "    # Check predictions are correct\n",
        "    print(f\"Input: {x}, Prediction {y_hat}, desired output {y}\")\n",
        "    assert (y == y_hat), f\"{y_hat} does not equal {y}\"\n",
        "\n",
        "print(\"Well done, your weights and biases are correct!\")"
      ],
      "execution_count": 14,
      "outputs": [
        {
          "output_type": "stream",
          "name": "stdout",
          "text": [
            "Input: tensor([[0., 0.]]), Prediction tensor([[1.]]), desired output tensor([[1.]])\n",
            "Input: tensor([[0., 1.]]), Prediction tensor([[0.]]), desired output tensor([[0.]])\n",
            "Input: tensor([[1., 0.]]), Prediction tensor([[0.]]), desired output tensor([[0.]])\n",
            "Input: tensor([[1., 1.]]), Prediction tensor([[0.]]), desired output tensor([[0.]])\n",
            "Well done, your weights and biases are correct!\n"
          ]
        }
      ]
    },
    {
      "cell_type": "markdown",
      "metadata": {
        "id": "dunw6h1nfAGb"
      },
      "source": [
        "## 4. Training a neural network <a id=\"4\"></a> \n",
        "\n",
        "So far, we have been encoding knowledge by hand. In this section, we are going to implement learning. \n",
        " Instead, we will be using a multi-layer perceptron:\n",
        "\n",
        "<center><img src=\"https://miro.medium.com/max/3446/1*-IPQlOd46dlsutIbUq1Zcw.png\" width=\"500\"></center>\n",
        "\n",
        "For our problem, we will be using two layers, which means we have two sets of weights and biases. Our first step will be to construct a two layer neural network, and then we will cover how to learn the weights and biases in the following section.\n"
      ]
    },
    {
      "cell_type": "markdown",
      "metadata": {
        "id": "5lEe5VeHlbOM"
      },
      "source": [
        "> **Task**: In the code below, I have provided inputs and outputs which represent the `XOR` problem. _**You must to construct two random matrices of weights and two random vectors of biases which are of the correct size, and fill in the `predict` function**_.\n",
        "\n",
        "**Tips**: Note that we still have the same amount of inputs (2), the same amount of outputs (1). But what is the output for the first layer, and what is the input for the second layer? This is what we will refer to as the number of _hidden nodes_, and you can pick any number you like. \n",
        "\n",
        "Below, I provide some \"pseudocode\" for what the `predict` function should look like: \n",
        "\n",
        "$$\n",
        "\\begin{aligned}\n",
        "    h &= f(W_1\\cdot x + b_1) \\\\\n",
        "    y &= W_2 \\cdot h + b_2\n",
        "\\end{aligned}\n",
        "$$\n",
        "\n",
        "You have a number of design decisions which you can evaluate in the next section. For instance, what activation function to use? How many hidden nodes? Do extra layers help? What happens if we have an activation function on the output layer?\n",
        "\n",
        "Note `pytorch` includes a range of activation functions, including `torch.sigmoid`, `torch.relu`, `torch.tanh`. You can use these as follows:\n",
        "\n",
        "```python\n",
        "out = torch.sigmoid(torch.mm(x, W) + b)\n",
        "```\n"
      ]
    },
    {
      "cell_type": "code",
      "metadata": {
        "id": "aqniZNzYl6Yg",
        "outputId": "4259a2b8-798a-4996-c35c-ec2ed78c71d4",
        "colab": {
          "base_uri": "https://localhost:8080/",
          "height": 363
        }
      },
      "source": [
        "# Define our data for AND problem\n",
        "input_data = torch.tensor([[0., 0.], [0., 1.], [1., 0.], [1., 1.]])\n",
        "output_data = torch.tensor([[1.], [0.], [1.], [0.]])\n",
        "\n",
        "# Define weights & biases for first layer (todo)\n",
        "W_1 = torch.rand(len(input_data[0]),2)\n",
        "b_1 = torch.rand(1, len(input_data[0]))\n",
        "# Define weights & biases for second layer (todo)\n",
        "W_2 = torch.rand(2,len(output_data[0]))\n",
        "b_2 = torch.rand(1,len(output_data[0]))\n",
        "\n",
        "# Define our predict function (todo)\n",
        "def predict(x, W_1, W_2, b_1, b_2):\n",
        "    out = torch.sigmoid(torch.mm(x, W_1) + b_1)\n",
        "    out = torch.sigmoid(out + torch.mm(x, W_2) + b_2)\n",
        "    print(out)\n",
        "    return out\n",
        "\n",
        "# Loop over examples\n",
        "for i in range(input_data.size(0)):\n",
        "    # Get example `i` (and unsqueeze to [1, 2] and [1, 1])\n",
        "    x = input_data[i].unsqueeze(0)\n",
        "\n",
        "    # Make a prediction\n",
        "    y_hat = predict(x, W_1, W_2, b_1, b_2)\n",
        "    assert (list(y_hat.size()) == [1, 1]), f\"incorrect output size ({y_hat.size()})\"\n",
        "\n",
        "print(\"Well done, you weights and biases were the correct size!\")"
      ],
      "execution_count": 24,
      "outputs": [
        {
          "output_type": "error",
          "ename": "RuntimeError",
          "evalue": "ignored",
          "traceback": [
            "\u001b[0;31m---------------------------------------------------------------------------\u001b[0m",
            "\u001b[0;31mRuntimeError\u001b[0m                              Traceback (most recent call last)",
            "\u001b[0;32m<ipython-input-24-23e767bf271a>\u001b[0m in \u001b[0;36m<module>\u001b[0;34m()\u001b[0m\n\u001b[1;32m     23\u001b[0m \u001b[0;34m\u001b[0m\u001b[0m\n\u001b[1;32m     24\u001b[0m     \u001b[0;31m# Make a prediction\u001b[0m\u001b[0;34m\u001b[0m\u001b[0;34m\u001b[0m\u001b[0;34m\u001b[0m\u001b[0m\n\u001b[0;32m---> 25\u001b[0;31m     \u001b[0my_hat\u001b[0m \u001b[0;34m=\u001b[0m \u001b[0mpredict\u001b[0m\u001b[0;34m(\u001b[0m\u001b[0mx\u001b[0m\u001b[0;34m,\u001b[0m \u001b[0mW_1\u001b[0m\u001b[0;34m,\u001b[0m \u001b[0mW_2\u001b[0m\u001b[0;34m,\u001b[0m \u001b[0mb_1\u001b[0m\u001b[0;34m,\u001b[0m \u001b[0mb_2\u001b[0m\u001b[0;34m)\u001b[0m\u001b[0;34m\u001b[0m\u001b[0;34m\u001b[0m\u001b[0m\n\u001b[0m\u001b[1;32m     26\u001b[0m     \u001b[0;32massert\u001b[0m \u001b[0;34m(\u001b[0m\u001b[0mlist\u001b[0m\u001b[0;34m(\u001b[0m\u001b[0my_hat\u001b[0m\u001b[0;34m.\u001b[0m\u001b[0msize\u001b[0m\u001b[0;34m(\u001b[0m\u001b[0;34m)\u001b[0m\u001b[0;34m)\u001b[0m \u001b[0;34m==\u001b[0m \u001b[0;34m[\u001b[0m\u001b[0;36m1\u001b[0m\u001b[0;34m,\u001b[0m \u001b[0;36m1\u001b[0m\u001b[0;34m]\u001b[0m\u001b[0;34m)\u001b[0m\u001b[0;34m,\u001b[0m \u001b[0;34mf\"incorrect output size ({y_hat.size()})\"\u001b[0m\u001b[0;34m\u001b[0m\u001b[0;34m\u001b[0m\u001b[0m\n\u001b[1;32m     27\u001b[0m \u001b[0;34m\u001b[0m\u001b[0m\n",
            "\u001b[0;32m<ipython-input-24-23e767bf271a>\u001b[0m in \u001b[0;36mpredict\u001b[0;34m(x, W_1, W_2, b_1, b_2)\u001b[0m\n\u001b[1;32m     13\u001b[0m \u001b[0;32mdef\u001b[0m \u001b[0mpredict\u001b[0m\u001b[0;34m(\u001b[0m\u001b[0mx\u001b[0m\u001b[0;34m,\u001b[0m \u001b[0mW_1\u001b[0m\u001b[0;34m,\u001b[0m \u001b[0mW_2\u001b[0m\u001b[0;34m,\u001b[0m \u001b[0mb_1\u001b[0m\u001b[0;34m,\u001b[0m \u001b[0mb_2\u001b[0m\u001b[0;34m)\u001b[0m\u001b[0;34m:\u001b[0m\u001b[0;34m\u001b[0m\u001b[0;34m\u001b[0m\u001b[0m\n\u001b[1;32m     14\u001b[0m     \u001b[0mout\u001b[0m \u001b[0;34m=\u001b[0m \u001b[0mtorch\u001b[0m\u001b[0;34m.\u001b[0m\u001b[0msigmoid\u001b[0m\u001b[0;34m(\u001b[0m\u001b[0mtorch\u001b[0m\u001b[0;34m.\u001b[0m\u001b[0mmm\u001b[0m\u001b[0;34m(\u001b[0m\u001b[0mx\u001b[0m\u001b[0;34m,\u001b[0m \u001b[0mW_1\u001b[0m\u001b[0;34m)\u001b[0m \u001b[0;34m+\u001b[0m \u001b[0mb_1\u001b[0m\u001b[0;34m)\u001b[0m\u001b[0;34m\u001b[0m\u001b[0;34m\u001b[0m\u001b[0m\n\u001b[0;32m---> 15\u001b[0;31m     \u001b[0mout\u001b[0m \u001b[0;34m=\u001b[0m \u001b[0mtorch\u001b[0m\u001b[0;34m.\u001b[0m\u001b[0msigmoid\u001b[0m\u001b[0;34m(\u001b[0m\u001b[0mout\u001b[0m \u001b[0;34m+\u001b[0m \u001b[0mtorch\u001b[0m\u001b[0;34m.\u001b[0m\u001b[0mmm\u001b[0m\u001b[0;34m(\u001b[0m\u001b[0mx\u001b[0m\u001b[0;34m,\u001b[0m \u001b[0mW_2\u001b[0m\u001b[0;34m)\u001b[0m \u001b[0;34m+\u001b[0m \u001b[0mb_2\u001b[0m\u001b[0;34m)\u001b[0m\u001b[0;34m\u001b[0m\u001b[0;34m\u001b[0m\u001b[0m\n\u001b[0m\u001b[1;32m     16\u001b[0m     \u001b[0mprint\u001b[0m\u001b[0;34m(\u001b[0m\u001b[0mout\u001b[0m\u001b[0;34m)\u001b[0m\u001b[0;34m\u001b[0m\u001b[0;34m\u001b[0m\u001b[0m\n\u001b[1;32m     17\u001b[0m     \u001b[0;32mreturn\u001b[0m \u001b[0mout\u001b[0m\u001b[0;34m\u001b[0m\u001b[0;34m\u001b[0m\u001b[0m\n",
            "\u001b[0;31mRuntimeError\u001b[0m: mat1 and mat2 shapes cannot be multiplied (1x2 and 1x1)"
          ]
        }
      ]
    },
    {
      "cell_type": "markdown",
      "metadata": {
        "id": "zjzw22ZZo5I6"
      },
      "source": [
        "### 4b. Training loop\n",
        "\n",
        "When using `pytorch`, you don't have to implement learning yourself. It uses [automatic differentiation](https://en.wikipedia.org/wiki/Automatic_differentiation) to implement backpropagation for you. \n",
        "\n",
        "Here, we introduce two new concepts:\n",
        "\n",
        "**Optimizers**: `Pytorch` use something called optimizers. These will collect gradients as you do computations and then perform optimisation algorithms (such as stochastic gradient descent) to update your parameters (weights and biases). Here is an example of of setting up an optimizer:\n",
        "\n",
        "\n",
        "```python\n",
        "optimizer = torch.optim.SGD([W, b], lr=0.01)\n",
        "```\n",
        "\n",
        "The first argument is a list of parameters which you wish to optimise (e.g., weights and biases). The second is the _learning rate_. \n",
        "\n",
        "**Loss function**: The loss function provides a measure of \"how wrong\" a prediction was. An example is the [mean-squared error](https://en.wikipedia.org/wiki/Mean_squared_error). `Pytorch` has a number of these packaged, for instance:\n",
        "\n",
        "```python\n",
        "loss_fn = torch.nn.MSELoss()\n",
        "```\n",
        "\n",
        "which can then be called using:\n",
        "\n",
        "```python\n",
        "loss = loss_fn(pred, y)\n",
        "```\n",
        "where `pred` was the prediction of your network. \n",
        "\n",
        "There are four steps to calculating gradients and updating weights and biases, detailed below (these must be performed in order). Please refer to the introductory lecture for more information.\n",
        "\n",
        "- **Clear gradients**: This is an artefact of the way `pytorch` works. Before calculating new gradients, you need to clear out gradients. This can be achieved by calling `optimizer.zero_grad()`\n",
        "- **Predict output**: This is the step we covered in the previous section\n",
        "- **Calculate loss**: How wrong was my prediction? This can be achieved with `loss_fn(prediction, true)`\n",
        "- **Calculate gradients**: What are the gradients of my loss with respect to my weights and biases? This can be achieved with `loss.backward()`\n",
        "- **Update weights and biases**: Once we know the gradients, we need to use them to update the weights and biases. This can be achieved with `optimizer.step()`\n"
      ]
    },
    {
      "cell_type": "markdown",
      "metadata": {
        "id": "bhP0fqp02pVR"
      },
      "source": [
        "> **Task**: In the code below, I have provided inputs and outputs which represent the `XOR` problem. Use your weights, biases and predict function from the previous task _**You must add code to make a prediction, get the loss, calculate the gradients, and update the weights and biases**_.\n",
        "\n",
        "\n",
        "**NOTE**: We have to tell `pytorch` which variables we want gradients for. We do this by wrapping them in `nn.Parameter`, e.g.\n",
        "\n",
        "```python\n",
        "w = nn.Parameter(torch.rand(2,3))\n",
        "```\n",
        "\n",
        "Failure to do this will give you the following error:\n",
        "\n",
        "```python\n",
        "RuntimeError: element 0 of tensors does not require grad and does not have a grad_fn\n",
        "```\n",
        "\n",
        "Also note that we have to perform these updates multiple times, stochastic gradient descent only update the weights a little bit each time. "
      ]
    },
    {
      "cell_type": "code",
      "metadata": {
        "id": "c1yxdfy3pCiS"
      },
      "source": [
        "# Provides extra neural network functions\n",
        "import torch.nn as nn\n",
        "# Provides optimizers\n",
        "import torch.optim as optim\n",
        "\n",
        "# number of epochs\n",
        "num_epochs = 10000\n",
        "\n",
        "# Define our data for AND problem\n",
        "input_data = torch.tensor([[0., 0.], [0., 1.], [1., 0.], [1., 1.]])\n",
        "output_data = torch.tensor([[1.], [0.], [1.], [0.]])\n",
        "\n",
        "# Define weights & biases for first layer (todo)\n",
        "# W_1 = ...\n",
        "# b_1 = ...\n",
        "# Define weights & biases for second layer (todo)\n",
        "# W_2 = ...\n",
        "# b_2 = ...\n",
        "\n",
        "# Setup our loss function\n",
        "loss_fn = nn.MSELoss()\n",
        "\n",
        "# Setup our optimizer\n",
        "optimizer = optim.SGD([W_1, W_2, b_1, b_2], lr=0.01)\n",
        "\n",
        "# Define our predict function (todo)\n",
        "def predict(x, W_1, W_2, b_1, b_2):\n",
        "    # ...\n",
        "\n",
        "# Training loop\n",
        "for epoch in range(num_epochs):\n",
        "    for i in range(input_data.size(0)):\n",
        "        # Get example `i` (and unsqueeze to [1, 2] and [1, 1])\n",
        "        x = input_data[i].unsqueeze(0)\n",
        "        y = output_data[i].unsqueeze(0)\n",
        "\n",
        "        # Clear gradients (todo)\n",
        "        # Predict outputs (todo)\n",
        "        # Calculate loss (todo)\n",
        "        # Calculate gradients (todo)\n",
        "        # Update weights (todo)\n",
        "\n",
        "    # Test our network\n",
        "    if epoch % 1000 == 0:\n",
        "        print(f\"Testing network @ epoch {epoch}\")\n",
        "        for i in range(input_data.size(0)):\n",
        "            # Make a prediction\n",
        "            x = input_data[i].unsqueeze(0)\n",
        "            y = output_data[i].unsqueeze(0)\n",
        "            y_hat = predict(x, W_1, W_2, b_1, b_2)\n",
        "            # Print result\n",
        "            print(\"Input:{} Target: {} Predicted:[{}] Error:[{}]\".format(\n",
        "                x.data.numpy(),\n",
        "                y.data.numpy(),\n",
        "                np.round(y_hat.data.numpy(), 4),\n",
        "                np.round(y.data.numpy() - y_hat.data.numpy(), 4)\n",
        "            ))"
      ],
      "execution_count": null,
      "outputs": []
    },
    {
      "cell_type": "markdown",
      "metadata": {
        "id": "xrIQ3iOTm8aK"
      },
      "source": [
        "## 4c. Solve XOR \n",
        "\n",
        " We are going to try and learn the `XOR` logic gate, defined by:\n",
        "\n",
        "| INPUT    | OUTPUT |\n",
        "| ----------- | ----------- |\n",
        "|0  / 0 | 0 |\n",
        "|0  / 1 | 1 |\n",
        "|1  / 0 | 1 |\n",
        "|1  / 1 | 0 |\n",
        "\n",
        "> **Task**: In the code below, I have provided inputs and outputs which represent the `XOR` problem. _**You must train a neural network to solve this task**_. Explore how the number of layers, number of hidden nodes, the activation functions and the learning rate influence learning. Use what you learned in the lab sheet.\n",
        "\n"
      ]
    },
    {
      "cell_type": "code",
      "metadata": {
        "id": "UIW4Cd1lnHqA"
      },
      "source": [
        "# Provides extra neural network functions\n",
        "import torch.nn as nn\n",
        "# Provides optimizers\n",
        "import torch.optim as optim\n",
        "\n",
        "# Define our data for XOR problem\n",
        "input_data = torch.tensor([[0., 0.], [0., 1.], [1., 0.], [1., 1.]])\n",
        "output_data = torch.tensor([[0.], [1.], [1.], [0.]])"
      ],
      "execution_count": null,
      "outputs": []
    },
    {
      "cell_type": "markdown",
      "metadata": {
        "id": "T2Qbn5rTU-UF"
      },
      "source": [
        "## 5. Recurrent Neural Networks\n",
        "\n",
        "In this section, we will implement a recurrent neural network. A neural network contains recurrent dynamics, e.g. it maintains some state $x$ which evolves over time:\n",
        "\n",
        "$$\n",
        "x_{t + 1} =  f(W \\cdot x_t)\n",
        "$$\n",
        "\n",
        "> **Task**: In the code below, I have provided a basic recurrent neural network. We also add some external input $I$: \n",
        "\n",
        "$$\n",
        "x_{t + 1} =  f(W \\cdot x_t + I)\n",
        "$$\n",
        "\n",
        "> Your task is to play with the weights, activation function and inputs. Plot the dynamics: can you find attractors and chaos?"
      ]
    },
    {
      "cell_type": "code",
      "metadata": {
        "id": "kGeFkrL-MlOR",
        "colab": {
          "base_uri": "https://localhost:8080/",
          "height": 265
        },
        "outputId": "9edeccad-1e3d-4b84-953a-a2ee4e7f504f"
      },
      "source": [
        "num_iterations = 100\n",
        "num_nodes = 4\n",
        "\n",
        "weights = torch.randn(num_nodes, num_nodes) * 1\n",
        "\n",
        "# activations over time\n",
        "x = torch.zeros(num_nodes, num_iterations)\n",
        "# init conditions\n",
        "x[0, 0] = -1\n",
        "x[1, 0] = 1\n",
        "\n",
        "# setup random input\n",
        "conf = torch.tensor(np.random.choice([0, 1.0], size=(num_nodes)))\n",
        "pulse_time = 50\n",
        "pulse_dur = 10\n",
        "mag = 3.0\n",
        "impulse = 0\n",
        "\n",
        "for t in range(1, num_iterations):\n",
        "    # update activations\n",
        "    x[:, t] = torch.tanh(torch.mm(x[:, t-1].unsqueeze(0), weights) + impulse)\n",
        "\n",
        "    # set input\n",
        "    if t > pulse_time and t < (pulse_time + pulse_dur):\n",
        "        impulse = mag * conf\n",
        "    else:\n",
        "        impulse = 0\n",
        "\n",
        "# plot\n",
        "_, ax = plt.subplots(1, 1)\n",
        "for n in range(num_nodes):\n",
        "    ax.plot(range(num_iterations), x[n, :])\n",
        "plt.show()"
      ],
      "execution_count": null,
      "outputs": [
        {
          "output_type": "display_data",
          "data": {
            "image/png": "[encoded data removed]",
            "text/plain": [
              "<Figure size 432x288 with 1 Axes>"
            ]
          },
          "metadata": {
            "tags": [],
            "needs_background": "light"
          }
        }
      ]
    },
    {
      "cell_type": "markdown",
      "metadata": {
        "id": "cGpyyDcmB-oD"
      },
      "source": [
        "## 5.b Sequence learning __(optional)__\n",
        "\n",
        "When dealing with recurrent neural networks, we generally consider learning _sequences_ of data. For instance, how does the stock market fall and rise? By leatning recurrent neural networks of stock history, we can try to predict how it will act in the future. \n",
        "\n",
        "Let $\\mathbf{y}$ denote a sequence of stock prices, over 5 days: $\\mathbf{y} = \\{y_1, y_2, y_3, y_4, y_5\\}$ (we will use $y_t$ to denote the value of $y$ at time $t$). A recurrent neural network will predict:\n",
        "\n",
        "$$\n",
        "x_{t+1} = f(W^a[x_t \\ y_t]) \\\\\n",
        "y_{t+1} = W^b x_{t+1}\n",
        "$$\n",
        "\n",
        "where $x$ is the hidden state.\n",
        "\n",
        "> **Task**: In the code below, I have provided weights and data, and a loop which goes through and tries to predict the incoming sequence. You need to write the predict function based on the equations above, and the predict function needs to return $y_{t+1}$ and $x_{t+1}$. You can use any choice of activation function $f$. \n",
        "\n",
        "**Tips** You can use `torch.cat` to concatenate togther $x$ and $y$ (denoted $[x, y]$ above). For instance, `torch.cat((x, hidden), 1)` will concatenate the matrices along the 1st dimension. \n"
      ]
    },
    {
      "cell_type": "code",
      "metadata": {
        "id": "qqv6HLWuGgVE"
      },
      "source": [
        "# Provides extra neural network functions\n",
        "import torch.nn as nn\n",
        "\n",
        "# define size of h\n",
        "hidden_size = 6\n",
        "# define size of x\n",
        "input_size = 1\n",
        "# length of data we model\n",
        "seq_len = 20\n",
        "\n",
        "# define a sequence of y data\n",
        "y_data = torch.rand(seq_len)\n",
        "\n",
        "# Define our weights \n",
        "W_1 = nn.Parameter(torch.rand(hidden_size + input_size, hidden_size)).float()\n",
        "W_2 = nn.Parameter(torch.rand(hidden_size, input_size)).float()\n",
        "\n",
        "\n",
        "# Define our predict function (todo)\n",
        "def predict(y, x, W_1, W_2):\n",
        "    # answer\n",
        "    x_and_y = torch.cat((x, y), 1)\n",
        "    hidden = torch.tanh(torch.mm(x_and_y, W_1))\n",
        "    out = torch.mm(hidden, W_2)\n",
        "    return out, hidden\n",
        "\n",
        "# init hidden state\n",
        "x_t = torch.zeros((1, hidden_size))\n",
        "\n",
        "# loop over sequence\n",
        "for t in range(seq_len):\n",
        "    y_t = y_data[t].view(1, 1)\n",
        "    y_t_hat, hidden = predict(y_t, x_t, W_1, W_2)\n",
        "    assert (list(y_t_hat.size()) == [1, input_size]), \"wrong size for y\"\n",
        "    assert (list(hidden.size()) == [1, hidden_size]), \"wrong size for h\"\n",
        "print(\"Well done, your predict function was correct\")"
      ],
      "execution_count": null,
      "outputs": []
    },
    {
      "cell_type": "markdown",
      "metadata": {
        "id": "iy1UYbD5ILiH"
      },
      "source": [
        "## 5.c Sequence learning __(Optional)__\n",
        "\n",
        "To train a recurrent neural network, we measure the loss for each prediction in a sequence, add together these losses for the whole sequence, and backproagate. \n",
        "\n",
        "> **Task**: Below is code which performs a training and test loop for a recurrent neural networked trained to predict a sine wave. Fill in the missing components, and try experimenting with testing: what happens when you only pass in part of a sequence (and use the networks own predictions as data for the next time step)."
      ]
    },
    {
      "cell_type": "code",
      "metadata": {
        "id": "m4ohEbmF3Jap"
      },
      "source": [
        "# Provides extra neural network functions\n",
        "import torch.nn as nn\n",
        "# Provides optimizers\n",
        "import torch.optim as optim\n",
        "\n",
        "# define constants\n",
        "epochs = 300\n",
        "hidden_size = 6\n",
        "input_size = 1\n",
        "output_size = 1\n",
        "seq_len = 20\n",
        "\n",
        "# Define our sin wave data\n",
        "data_time_steps = np.linspace(2, 10, seq_len + 1)\n",
        "data = np.sin(data_time_steps)\n",
        "\n",
        "# define our sequence\n",
        "x_data = torch.tensor(data[:-1]).float()\n",
        "y_data = torch.tensor(data[1:]).float()\n",
        "\n",
        "# Define our weights (todo)\n",
        "W_1 = nn.Parameter(torch.rand(hidden_size + input_size, hidden_size)).float()\n",
        "W_2 = nn.Parameter(torch.rand(hidden_size, output_size)).float()\n",
        "\n",
        "# Setup our loss function\n",
        "loss_fn = nn.MSELoss()\n",
        "\n",
        "# Setup our optimizer\n",
        "optimizer = optim.SGD([W_1, W_2], lr=0.01)\n",
        "\n",
        "# Define our predict function (todo)\n",
        "def predict(x, hidden, W_1, W_2):\n",
        "    x_and_hidden = torch.cat((x, hidden), 1)\n",
        "    hidden = torch.tanh(torch.mm(x_and_hidden, W_1))\n",
        "    out = torch.mm(hidden, W_2)\n",
        "    return out, hidden\n",
        "\n",
        "# Training loop\n",
        "for epoch in range(1000):\n",
        "    optimizer.zero_grad()\n",
        "    # init hidden state\n",
        "    hidden = torch.zeros((1, hidden_size))\n",
        "    loss = 0\n",
        "    for t in range(x_data.size(0)):\n",
        "        x_t = x_data[t].view(1, 1)\n",
        "        y_t = y_data[t].view(1, 1)\n",
        "        # predict next hidden and state\n",
        "        (y_t_hat, hidden) = predict(x_t, hidden, W_1, W_2)\n",
        "        # accumulate loss\n",
        "        loss = loss + loss_fn(y_t_hat, y_t)\n",
        "    loss.backward()\n",
        "    optimizer.step()  \n",
        "\n",
        "# Test network\n",
        "hidden = torch.zeros((1, hidden_size))\n",
        "predictions = []\n",
        "\n",
        "for t in range(x_data.size(0)):\n",
        "    x_t = x_data[t].view(-1, 1)\n",
        "    (y_t_hat, hidden) = predict(x_t, hidden, W_1, W_2)\n",
        "    predictions.append(y_t_hat.data.numpy().ravel()[0])\n",
        "\n",
        "plt.scatter(data_time_steps[:-1], x_data.data.numpy(), s=90, label=\"Actual\")\n",
        "plt.scatter(data_time_steps[1:], predictions, label=\"Predicted\")\n",
        "plt.legend()\n",
        "plt.show()\n",
        "        \n",
        "\n"
      ],
      "execution_count": null,
      "outputs": []
    }
  ]
}